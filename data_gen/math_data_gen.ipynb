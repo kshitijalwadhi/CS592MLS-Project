{
 "cells": [
  {
   "cell_type": "code",
   "execution_count": 7,
   "metadata": {},
   "outputs": [],
   "source": [
    "import random\n",
    "import pandas as pd\n",
    "import numpy as np"
   ]
  },
  {
   "cell_type": "code",
   "execution_count": 8,
   "metadata": {},
   "outputs": [],
   "source": [
    "def generate_k_digit_addition_dataset(max_k=8, samples_per_k=200):\n",
    "    \"\"\"\n",
    "    Generate a dataset of k-digit addition problems using Pandas DataFrame.\n",
    "    \n",
    "    Args:\n",
    "    - max_k (int): Maximum number of digits to generate (default 32)\n",
    "    - samples_per_k (int): Number of samples to generate for each k\n",
    "    \n",
    "    Returns:\n",
    "    - pandas.DataFrame with columns: digits, num1, num2, result\n",
    "    \"\"\"\n",
    "    # Prepare lists to store data\n",
    "    digits_list = []\n",
    "    num1_list = []\n",
    "    num2_list = []\n",
    "    result_list = []\n",
    "    \n",
    "    # Generate samples for k from 1 to max_k\n",
    "    for k in range(1, max_k + 1):\n",
    "        # Calculate the range for k-digit numbers\n",
    "        min_val = 10 ** (k - 1)\n",
    "        max_val = (10 ** k) - 1\n",
    "        \n",
    "        # Generate samples_per_k samples for this k\n",
    "        for _ in range(samples_per_k):\n",
    "            # Generate two random k-digit numbers\n",
    "            num1 = random.randint(min_val, max_val)\n",
    "            num2 = random.randint(min_val, max_val)\n",
    "            \n",
    "            # Calculate the result\n",
    "            result = num1 + num2\n",
    "            \n",
    "            # Append to lists\n",
    "            digits_list.append(k)\n",
    "            num1_list.append(num1)\n",
    "            num2_list.append(num2)\n",
    "            result_list.append(result)\n",
    "    \n",
    "    # Create DataFrame\n",
    "    df = pd.DataFrame({\n",
    "        'digits': digits_list,\n",
    "        'num1': num1_list,\n",
    "        'num2': num2_list,\n",
    "        'result': result_list\n",
    "    })\n",
    "    \n",
    "    print(f\"Dataset generated\")\n",
    "    print(f\"Total samples: {len(df)}\")\n",
    "    print(f\"DataFrame shape: {df.shape}\")\n",
    "    \n",
    "    return df"
   ]
  },
  {
   "cell_type": "code",
   "execution_count": 9,
   "metadata": {},
   "outputs": [
    {
     "name": "stdout",
     "output_type": "stream",
     "text": [
      "Dataset generated\n",
      "Total samples: 1600\n",
      "DataFrame shape: (1600, 4)\n"
     ]
    }
   ],
   "source": [
    "k_digit_addition_df = generate_k_digit_addition_dataset()"
   ]
  },
  {
   "cell_type": "code",
   "execution_count": 10,
   "metadata": {},
   "outputs": [],
   "source": [
    "dataset_name = \"math\"\n",
    "\n",
    "# Split the data into train and test sets, with 90% in the train set\n",
    "train_df = k_digit_addition_df.sample(frac=0.9, random_state=42)\n",
    "test_df = k_digit_addition_df.drop(train_df.index)\n",
    "\n",
    "# Save the dataframes to .jsonl files\n",
    "train_df.to_json(f'{dataset_name}_train.jsonl', orient='records', lines=True)\n",
    "test_df.to_json(f'{dataset_name}_test.jsonl', orient='records', lines=True)"
   ]
  },
  {
   "cell_type": "code",
   "execution_count": null,
   "metadata": {},
   "outputs": [],
   "source": []
  }
 ],
 "metadata": {
  "kernelspec": {
   "display_name": "Python 3",
   "language": "python",
   "name": "python3"
  },
  "language_info": {
   "codemirror_mode": {
    "name": "ipython",
    "version": 3
   },
   "file_extension": ".py",
   "mimetype": "text/x-python",
   "name": "python",
   "nbconvert_exporter": "python",
   "pygments_lexer": "ipython3",
   "version": "3.12.6"
  }
 },
 "nbformat": 4,
 "nbformat_minor": 2
}
