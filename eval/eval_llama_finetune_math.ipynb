{
 "cells": [
  {
   "cell_type": "code",
   "execution_count": null,
   "metadata": {},
   "outputs": [],
   "source": [
    "!pip install -q accelerate==0.21.0 peft==0.4.0 bitsandbytes==0.40.2 transformers==4.31.0 trl==0.4.7\n",
    "\n",
    "import os\n",
    "import torch\n",
    "from datasets import load_dataset\n",
    "from transformers import (\n",
    "    AutoModelForCausalLM,\n",
    "    AutoTokenizer,\n",
    "    BitsAndBytesConfig,\n",
    "    HfArgumentParser,\n",
    "    TrainingArguments,\n",
    "    pipeline,\n",
    "    logging,\n",
    ")\n",
    "from peft import LoraConfig, PeftModel\n",
    "from trl import SFTTrainer"
   ]
  },
  {
   "cell_type": "code",
   "execution_count": null,
   "metadata": {},
   "outputs": [],
   "source": [
    "model_name = \"NousResearch/llama-2-7b-chat-hf\" # use this if you have access to the official LLaMA 2 model \"meta-llama/Llama-2-7b-chat-hf\", though keep in mind you'll need to pass a Hugging Face key argument\n",
    "dataset_name = \"/content/train.jsonl\"\n",
    "new_model = \"llama-2-7b-custom\"\n",
    "lora_r = 32\n",
    "lora_alpha = 16\n",
    "lora_dropout = 0.1\n",
    "use_4bit = True\n",
    "bnb_4bit_compute_dtype = \"float16\"\n",
    "bnb_4bit_quant_type = \"nf4\"\n",
    "use_nested_quant = False\n",
    "output_dir = \"./results\"\n",
    "num_train_epochs = 5\n",
    "fp16 = False\n",
    "bf16 = False\n",
    "per_device_train_batch_size = 4\n",
    "per_device_eval_batch_size = 4\n",
    "gradient_accumulation_steps = 1\n",
    "gradient_checkpointing = True\n",
    "max_grad_norm = 0.3\n",
    "learning_rate = 2e-4\n",
    "weight_decay = 0.001\n",
    "optim = \"paged_adamw_32bit\"\n",
    "lr_scheduler_type = \"constant\"\n",
    "max_steps = -1\n",
    "warmup_ratio = 0.03\n",
    "group_by_length = True\n",
    "save_steps = 25\n",
    "logging_steps = 5\n",
    "max_seq_length = None\n",
    "packing = False\n",
    "device_map = {\"\": 0}"
   ]
  },
  {
   "cell_type": "code",
   "execution_count": null,
   "metadata": {},
   "outputs": [],
   "source": [
    "system_prompt = (\n",
    "    \"You are an expert in solving math problems. You will be given two numbers \"\n",
    "    \"and you need to add them. Do not produce any output other than the sum of the two numbers. \"\n",
    "    \"Provide the answer as a single number without any text, explanations, or punctuation.\"\n",
    ")"
   ]
  },
  {
   "cell_type": "code",
   "execution_count": null,
   "metadata": {},
   "outputs": [],
   "source": [
    "# Load datasets\n",
    "train_dataset = load_dataset('json', data_files=f'/content/{dataset_name}_train.jsonl', split=\"train\")\n",
    "valid_dataset = load_dataset('json', data_files=f'/content/{dataset_name}_test.jsonl', split=\"train\")\n",
    "\n",
    "# Preprocess datasets\n",
    "train_dataset_mapped = train_dataset.map(lambda examples: {'text': [f'[INST] <<SYS>>\\n{system_prompt.strip()}\\n<</SYS>>\\n\\n' + str(num1) + \" + \" + str(num2) + ' [/INST] ' + str(result) for num1,num2,result in zip(examples['num1'], examples['num2'], examples['result'])]}, batched=True)\n",
    "valid_dataset_mapped = valid_dataset.map(lambda examples: {'text': [f'[INST] <<SYS>>\\n{system_prompt.strip()}\\n<</SYS>>\\n\\n' + str(num1) + \" + \" + str(num2) + ' [/INST] ' + str(result) for num1,num2,result in zip(examples['num1'], examples['num2'], examples['result'])]}, batched=True)"
   ]
  },
  {
   "cell_type": "code",
   "execution_count": null,
   "metadata": {},
   "outputs": [],
   "source": [
    "compute_dtype = getattr(torch, bnb_4bit_compute_dtype)\n",
    "bnb_config = BitsAndBytesConfig(\n",
    "    load_in_4bit=use_4bit,\n",
    "    bnb_4bit_quant_type=bnb_4bit_quant_type,\n",
    "    bnb_4bit_compute_dtype=compute_dtype,\n",
    "    bnb_4bit_use_double_quant=use_nested_quant,\n",
    ")\n",
    "model = AutoModelForCausalLM.from_pretrained(\n",
    "    model_name,\n",
    "    quantization_config=bnb_config,\n",
    "    device_map=device_map\n",
    ")\n",
    "model.config.use_cache = False\n",
    "model.config.pretraining_tp = 1"
   ]
  },
  {
   "cell_type": "code",
   "execution_count": null,
   "metadata": {},
   "outputs": [],
   "source": [
    "tokenizer = AutoTokenizer.from_pretrained(model_name, trust_remote_code=True)\n",
    "tokenizer.pad_token = tokenizer.eos_token\n",
    "tokenizer.padding_side = \"right\"\n",
    "peft_config = LoraConfig(\n",
    "    lora_alpha=lora_alpha,\n",
    "    lora_dropout=lora_dropout,\n",
    "    r=lora_r,\n",
    "    bias=\"none\",\n",
    "    task_type=\"CAUSAL_LM\",\n",
    ")"
   ]
  },
  {
   "cell_type": "code",
   "execution_count": null,
   "metadata": {},
   "outputs": [],
   "source": [
    "# Set training parameters\n",
    "training_arguments = TrainingArguments(\n",
    "    output_dir=output_dir,\n",
    "    num_train_epochs=num_train_epochs,\n",
    "    per_device_train_batch_size=per_device_train_batch_size,\n",
    "    gradient_accumulation_steps=gradient_accumulation_steps,\n",
    "    optim=optim,\n",
    "    save_steps=save_steps,\n",
    "    logging_steps=logging_steps,\n",
    "    learning_rate=learning_rate,\n",
    "    weight_decay=weight_decay,\n",
    "    fp16=fp16,\n",
    "    bf16=bf16,\n",
    "    max_grad_norm=max_grad_norm,\n",
    "    max_steps=max_steps,\n",
    "    warmup_ratio=warmup_ratio,\n",
    "    group_by_length=group_by_length,\n",
    "    lr_scheduler_type=lr_scheduler_type,\n",
    "    report_to=\"all\",\n",
    "    evaluation_strategy=\"steps\",\n",
    "    eval_steps=5  # Evaluate every 20 steps\n",
    ")"
   ]
  },
  {
   "cell_type": "code",
   "execution_count": null,
   "metadata": {},
   "outputs": [],
   "source": [
    "# Set supervised fine-tuning parameters\n",
    "trainer = SFTTrainer(\n",
    "    model=model,\n",
    "    train_dataset=train_dataset_mapped,\n",
    "    eval_dataset=valid_dataset_mapped,  # Pass validation dataset here\n",
    "    peft_config=peft_config,\n",
    "    dataset_text_field=\"text\",\n",
    "    max_seq_length=max_seq_length,\n",
    "    tokenizer=tokenizer,\n",
    "    args=training_arguments,\n",
    "    packing=packing,\n",
    ")"
   ]
  },
  {
   "cell_type": "code",
   "execution_count": null,
   "metadata": {},
   "outputs": [],
   "source": [
    "trainer.train()"
   ]
  },
  {
   "cell_type": "code",
   "execution_count": null,
   "metadata": {},
   "outputs": [],
   "source": [
    "trainer.model.save_pretrained(new_model)"
   ]
  },
  {
   "cell_type": "code",
   "execution_count": null,
   "metadata": {},
   "outputs": [],
   "source": [
    "import pandas as pd\n",
    "test_dataset = \"k_digit_addition_test_dataset.csv\"\n",
    "val_dataset = \"k_digit_addition_val_dataset.csv\"\n",
    "\n",
    "test_df = pd.read_csv(test_dataset)\n",
    "val_df = pd.read_csv(val_dataset)"
   ]
  },
  {
   "cell_type": "code",
   "execution_count": null,
   "metadata": {},
   "outputs": [],
   "source": [
    "import re\n",
    "\n",
    "def extract_last_number(output):\n",
    "    \"\"\"\n",
    "    Extracts the last number from the given string.\n",
    "    \n",
    "    Parameters:\n",
    "        output (str): The string containing the output.\n",
    "    \n",
    "    Returns:\n",
    "        int or None: The last number if found, otherwise None.\n",
    "    \"\"\"\n",
    "    matches = re.findall(r'\\d+', output)\n",
    "    if matches:\n",
    "        return int(matches[-1])  # Get the last match and convert to int\n",
    "    return None"
   ]
  },
  {
   "cell_type": "code",
   "execution_count": null,
   "metadata": {},
   "outputs": [],
   "source": [
    "from tqdm import tqdm"
   ]
  },
  {
   "cell_type": "code",
   "execution_count": null,
   "metadata": {},
   "outputs": [],
   "source": [
    "num_eval = 10\n",
    "\n",
    "results = []\n",
    "predictions = []  # List to store detailed predictions\n",
    "\n",
    "for k in tqdm(range(1, 13)):\n",
    "    test_df_subset = test_df[test_df[\"digits\"] == k].head(num_eval)\n",
    "    val_df_subset = val_df[val_df[\"digits\"] == k]\n",
    "\n",
    "    few_shot_prompt = system_prompt + \"\\n\\nExamples:\\n\"\n",
    "    for _, row in val_df_subset.iterrows():\n",
    "        few_shot_prompt += f\"{row['num1']} + {row['num2']} = {row['result']}\\n\"\n",
    "\n",
    "    correct = 0\n",
    "    total = len(test_df_subset)\n",
    "\n",
    "    for _, row in tqdm(test_df_subset.iterrows(), total=len(test_df_subset)):\n",
    "        test_prompt = f\"\\n {row['num1']} + {row['num2']} =\"\n",
    "\n",
    "        prompt = f\"\"\"[INST] <<SYS>>\\n{few_shot_prompt}\\n<</SYS>>\\n\\n {test_prompt} Answer:[/INST]\"\"\"\n",
    "\n",
    "        pipe = pipeline(task=\"text-generation\", model=model, tokenizer=tokenizer, max_new_tokens=256)\n",
    "\n",
    "        result = pipe(prompt)\n",
    "\n",
    "        text = result[0]['generated_text']\n",
    "\n",
    "        model_output = text.split(\"[/INST]\")[1].strip()\n",
    "\n",
    "        extracted_num = extract_last_number(model_output)\n",
    "\n",
    "        # Check if the model output matches the expected sum\n",
    "        is_correct = extracted_num == int(row['result'])\n",
    "        if is_correct:\n",
    "            correct += 1\n",
    "        \n",
    "        # Store the prediction details\n",
    "        predictions.append({\n",
    "            \"k\": k,\n",
    "            \"num1\": row['num1'],\n",
    "            \"num2\": row['num2'],\n",
    "            \"correct_output\": int(row['result']),\n",
    "            \"predicted_output\": extracted_num,\n",
    "            \"is_correct\": is_correct\n",
    "        })\n",
    "\n",
    "    # Record accuracy for this k\n",
    "    accuracy = correct / total if total > 0 else 0\n",
    "    print(k, accuracy)\n",
    "    results.append({\"k\": k, \"accuracy\": accuracy})\n"
   ]
  },
  {
   "cell_type": "code",
   "execution_count": null,
   "metadata": {},
   "outputs": [],
   "source": [
    "results_df = pd.DataFrame(results)\n",
    "results_df.to_csv(\"k_digit_addition_results_finetune.csv\", index=False)\n",
    "\n",
    "predictions_df = pd.DataFrame(predictions)\n",
    "predictions_df.to_csv(\"k_digit_addition_predictions_finetune.csv\", index=False)\n"
   ]
  }
 ],
 "metadata": {
  "language_info": {
   "name": "python"
  }
 },
 "nbformat": 4,
 "nbformat_minor": 2
}
