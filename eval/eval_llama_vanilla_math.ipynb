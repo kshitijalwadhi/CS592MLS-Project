{
 "cells": [
  {
   "cell_type": "code",
   "execution_count": null,
   "metadata": {},
   "outputs": [],
   "source": [
    "!pip install -q accelerate==0.21.0 peft==0.4.0 bitsandbytes==0.40.2 transformers==4.31.0 trl==0.4.7\n",
    "\n",
    "import os\n",
    "import torch\n",
    "from datasets import load_dataset\n",
    "from transformers import (\n",
    "    AutoModelForCausalLM,\n",
    "    AutoTokenizer,\n",
    "    BitsAndBytesConfig,\n",
    "    HfArgumentParser,\n",
    "    TrainingArguments,\n",
    "    pipeline,\n",
    "    logging,\n",
    ")\n",
    "from peft import LoraConfig, PeftModel\n",
    "from trl import SFTTrainer"
   ]
  },
  {
   "cell_type": "code",
   "execution_count": null,
   "metadata": {},
   "outputs": [],
   "source": [
    "model_name = \"NousResearch/llama-2-7b-chat-hf\" # use this if you have access to the official LLaMA 2 model \"meta-llama/Llama-2-7b-chat-hf\", though keep in mind you'll need to pass a Hugging Face key argument\n",
    "new_model = \"llama-2-7b-custom\"\n",
    "use_4bit = True\n",
    "bnb_4bit_compute_dtype = \"float16\"\n",
    "bnb_4bit_quant_type = \"nf4\"\n",
    "use_nested_quant = False\n",
    "fp16 = False\n",
    "bf16 = False\n",
    "warmup_ratio = 0.03\n",
    "group_by_length = True\n",
    "max_seq_length = None\n",
    "packing = False\n",
    "device_map = {\"\": 0}"
   ]
  },
  {
   "cell_type": "code",
   "execution_count": null,
   "metadata": {},
   "outputs": [],
   "source": [
    "compute_dtype = getattr(torch, bnb_4bit_compute_dtype)\n",
    "bnb_config = BitsAndBytesConfig(\n",
    "    load_in_4bit=use_4bit,\n",
    "    bnb_4bit_quant_type=bnb_4bit_quant_type,\n",
    "    bnb_4bit_compute_dtype=compute_dtype,\n",
    "    bnb_4bit_use_double_quant=use_nested_quant,\n",
    ")\n",
    "model = AutoModelForCausalLM.from_pretrained(\n",
    "    model_name,\n",
    "    quantization_config=bnb_config,\n",
    "    device_map=device_map\n",
    ")\n",
    "model.config.use_cache = False\n",
    "model.config.pretraining_tp = 1"
   ]
  },
  {
   "cell_type": "code",
   "execution_count": null,
   "metadata": {},
   "outputs": [],
   "source": [
    "tokenizer = AutoTokenizer.from_pretrained(model_name, trust_remote_code=True)\n",
    "tokenizer.pad_token = tokenizer.eos_token\n",
    "tokenizer.padding_side = \"right\""
   ]
  },
  {
   "cell_type": "code",
   "execution_count": 1,
   "metadata": {},
   "outputs": [],
   "source": [
    "import pandas as pd\n",
    "test_dataset = \"k_digit_addition_test_dataset.csv\"\n",
    "val_dataset = \"k_digit_addition_val_dataset.csv\"\n",
    "\n",
    "test_df = pd.read_csv(test_dataset)\n",
    "val_df = pd.read_csv(val_dataset)"
   ]
  },
  {
   "cell_type": "code",
   "execution_count": 3,
   "metadata": {},
   "outputs": [],
   "source": [
    "system_prompt = (\n",
    "    \"You are an expert in solving math problems. You will be given two numbers \"\n",
    "    \"and you need to add them. Do not produce any output other than the sum of \"\n",
    "    \"the two numbers. You will also be given examples to help you understand the task.\"\n",
    ")"
   ]
  },
  {
   "cell_type": "code",
   "execution_count": null,
   "metadata": {},
   "outputs": [],
   "source": [
    "results = []\n",
    "\n",
    "for k in range(1,33):\n",
    "    test_df_subset = test_df[test_df[\"digits\"]==k]\n",
    "    val_df_subset = val_df[val_df[\"digits\"]==k]\n",
    "\n",
    "    few_shot_prompt = system_prompt + \"\\n\\nExamples:\\n\"\n",
    "    for _, row in val_df_subset.iterrows():\n",
    "        few_shot_prompt += f\"{row['num1']} + {row['num2']} = {row['result']}\\n\"\n",
    "\n",
    "    correct = 0\n",
    "    total = len(test_df_subset)\n",
    "\n",
    "    for _, row in test_df_subset.iterrows():\n",
    "        test_prompt = f\"\\n{row['num1']} + {row['num2']} =\"\n",
    "\n",
    "        prompt = f\"\"\"[INST] <<SYS>>\\n{few_shot_prompt}\\n<</SYS>>\\n\\n {test_prompt} [/INST]\"\"\"\n",
    "\n",
    "        pipe = pipeline(task=\"text-generation\", model=model, tokenizer=tokenizer, max_length=128)\n",
    "\n",
    "        result = pipe(prompt)\n",
    "\n",
    "        text = result[0]['generated_text']\n",
    "\n",
    "        model_output = text.split(\"[/INST]\")[1].strip()\n",
    "\n",
    "        # Check if the model output matches the expected sum\n",
    "        if model_output == str(row['sum']):\n",
    "            correct += 1\n",
    "                    \n",
    "\n",
    "    # Record accuracy for this k\n",
    "    accuracy = correct / total if total > 0 else 0\n",
    "    results.append({\"k\": k, \"accuracy\": accuracy})\n"
   ]
  },
  {
   "cell_type": "code",
   "execution_count": null,
   "metadata": {},
   "outputs": [],
   "source": [
    "results_df = pd.DataFrame(results)\n",
    "results_df.to_csv(\"k_digit_addition_results.csv\", index=False)"
   ]
  }
 ],
 "metadata": {
  "kernelspec": {
   "display_name": "Python 3",
   "language": "python",
   "name": "python3"
  },
  "language_info": {
   "codemirror_mode": {
    "name": "ipython",
    "version": 3
   },
   "file_extension": ".py",
   "mimetype": "text/x-python",
   "name": "python",
   "nbconvert_exporter": "python",
   "pygments_lexer": "ipython3",
   "version": "3.12.6"
  }
 },
 "nbformat": 4,
 "nbformat_minor": 2
}
