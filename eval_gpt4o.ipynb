{
 "cells": [
  {
   "cell_type": "code",
   "execution_count": 49,
   "metadata": {},
   "outputs": [],
   "source": [
    "import os\n",
    "from dotenv import load_dotenv\n",
    "load_dotenv()\n",
    "import numpy as np\n",
    "\n",
    "OPENAI_API_KEY = os.getenv(\"OPENAI_API_KEY\")"
   ]
  },
  {
   "cell_type": "code",
   "execution_count": 50,
   "metadata": {},
   "outputs": [],
   "source": [
    "from openai import OpenAI\n",
    "\n",
    "client = OpenAI(\n",
    "    api_key=OPENAI_API_KEY\n",
    ")"
   ]
  },
  {
   "cell_type": "code",
   "execution_count": 51,
   "metadata": {},
   "outputs": [],
   "source": [
    "dataset_name = \"professional_psychology\""
   ]
  },
  {
   "cell_type": "code",
   "execution_count": 52,
   "metadata": {},
   "outputs": [
    {
     "name": "stderr",
     "output_type": "stream",
     "text": [
      "Generating test split: 100%|██████████| 612/612 [00:00<00:00, 27295.98 examples/s]\n",
      "Generating validation split: 100%|██████████| 69/69 [00:00<00:00, 27424.14 examples/s]\n",
      "Generating dev split: 100%|██████████| 5/5 [00:00<00:00, 3182.81 examples/s]\n"
     ]
    }
   ],
   "source": [
    "from datasets import load_dataset\n",
    "ds = load_dataset(\"cais/mmlu\", dataset_name)"
   ]
  },
  {
   "cell_type": "code",
   "execution_count": 53,
   "metadata": {},
   "outputs": [],
   "source": [
    "def get_choices():\n",
    "    return [\"A\", \"B\", \"C\", \"D\"]\n",
    "\n",
    "\n",
    "def format_subject(subject):\n",
    "    return subject.replace(\"_\", \" \")\n",
    "\n",
    "\n",
    "def format_example(example, include_answer=True):\n",
    "    # Extract question and choices\n",
    "    prompt = example['question']\n",
    "    choices = example['choices']\n",
    "\n",
    "    # Add choices to the prompt\n",
    "    for j, choice in enumerate(choices):\n",
    "        prompt += \"\\n{}. {}\".format(get_choices()[j], choice)\n",
    "\n",
    "    prompt += \"\\nAnswer:\"\n",
    "\n",
    "    if include_answer:\n",
    "        # Get the answer (convert to letter if it's an index)\n",
    "        answer = example['answer']\n",
    "        if isinstance(answer, (int, np.integer)):\n",
    "            answer = get_choices()[answer]\n",
    "        prompt += \" {}\\n\\n\".format(answer)\n",
    "\n",
    "    return prompt"
   ]
  },
  {
   "cell_type": "code",
   "execution_count": 54,
   "metadata": {},
   "outputs": [],
   "source": [
    "system_prompt = f\"You are an expert in {format_subject(dataset_name)}. You will be presented with a question and four possible answers. Choose the correct answer. Do not output any explanation, only choose the correct option.\""
   ]
  },
  {
   "cell_type": "code",
   "execution_count": 55,
   "metadata": {},
   "outputs": [],
   "source": [
    "def gen_prompt(train_dataset, num_examples=5):\n",
    "    prompt = f\"The following are example multiple choice questions (with answers).\\n\\n\"\n",
    "\n",
    "    for i in range(min(num_examples, len(train_dataset))):\n",
    "        prompt += format_example(train_dataset[i])\n",
    "\n",
    "    return prompt"
   ]
  },
  {
   "cell_type": "code",
   "execution_count": 56,
   "metadata": {},
   "outputs": [],
   "source": [
    "import re\n",
    "\n",
    "def extract_answer(generated_text):\n",
    "    \"\"\"\n",
    "    Extract the first letter that matches A, B, C, or D\n",
    "    \"\"\"\n",
    "    # Convert to uppercase to catch both lower and upper case\n",
    "    generated_text = generated_text.upper()\n",
    "\n",
    "    # Look for first occurrence of A, B, C, or D\n",
    "    match = re.search(r'[A-D]', generated_text)\n",
    "\n",
    "    return match.group(0) if match else None"
   ]
  },
  {
   "cell_type": "code",
   "execution_count": 57,
   "metadata": {},
   "outputs": [],
   "source": [
    "num_few_shot = 0\n",
    "total_questions = 100"
   ]
  },
  {
   "cell_type": "code",
   "execution_count": 59,
   "metadata": {},
   "outputs": [],
   "source": [
    "from tqdm import tqdm"
   ]
  },
  {
   "cell_type": "code",
   "execution_count": 60,
   "metadata": {},
   "outputs": [
    {
     "name": "stderr",
     "output_type": "stream",
     "text": [
      "100%|██████████| 100/100 [01:00<00:00,  1.65it/s]"
     ]
    },
    {
     "name": "stdout",
     "output_type": "stream",
     "text": [
      "Accuracy: 0.88\n"
     ]
    },
    {
     "name": "stderr",
     "output_type": "stream",
     "text": [
      "\n"
     ]
    }
   ],
   "source": [
    "correct_predictions = 0\n",
    "\n",
    "few_shot_prompt = gen_prompt(ds['dev'], num_few_shot)\n",
    "combined_system_prompt = f\"{system_prompt}\\n\\n{few_shot_prompt}\"\n",
    "correct_answers = []\n",
    "predicted_answers = []\n",
    "\n",
    "for idx in tqdm(range(total_questions)):\n",
    "    # Current test question\n",
    "    test_question = format_example(ds['test'][idx], include_answer=False)\n",
    "\n",
    "    messages = [\n",
    "        {\n",
    "            \"role\": \"system\",\n",
    "            \"content\": system_prompt\n",
    "        },\n",
    "        {\n",
    "            \"role\": \"user\",\n",
    "            \"content\": test_question\n",
    "        }\n",
    "    ]\n",
    "\n",
    "    resp = client.chat.completions.create(\n",
    "        messages=messages,\n",
    "        model=\"gpt-4o\",\n",
    "        temperature=0.3,\n",
    "    )\n",
    "\n",
    "    content = resp.choices[0].message.content\n",
    "    predicted_answer = extract_answer(content)\n",
    "\n",
    "    ground_truth = ds['test'][idx]['answer']\n",
    "\n",
    "    # Normalize ground truth\n",
    "    if isinstance(ground_truth, (int, np.integer)):\n",
    "        ground_truth = get_choices()[ground_truth]\n",
    "\n",
    "    predicted_answers.append(predicted_answer)\n",
    "    correct_answers.append(ground_truth)\n",
    "\n",
    "    # Compare\n",
    "    if predicted_answer == ground_truth:\n",
    "        correct_predictions += 1\n",
    "    # else:\n",
    "        # Optional: print misclassified examples for debugging\n",
    "        # print(f\"Predicted: {predicted_answer}, Correct: {ground_truth}\")\n",
    "\n",
    "accuracy = correct_predictions / total_questions\n",
    "print(f\"Accuracy: {accuracy}\")"
   ]
  },
  {
   "cell_type": "code",
   "execution_count": 61,
   "metadata": {},
   "outputs": [],
   "source": [
    "import pandas as pd\n",
    "df = pd.DataFrame({\n",
    "    \"Question\": [format_example(ds['test'][i], include_answer=False) for i in range(total_questions)],\n",
    "    \"Predicted Answer\": predicted_answers,\n",
    "    \"Correct Answer\": correct_answers\n",
    "})\n",
    "\n",
    "df.to_csv(f\"{dataset_name}_gpt4o_results.csv\", index=False)"
   ]
  },
  {
   "cell_type": "code",
   "execution_count": null,
   "metadata": {},
   "outputs": [],
   "source": []
  }
 ],
 "metadata": {
  "kernelspec": {
   "display_name": "Python 3",
   "language": "python",
   "name": "python3"
  },
  "language_info": {
   "codemirror_mode": {
    "name": "ipython",
    "version": 3
   },
   "file_extension": ".py",
   "mimetype": "text/x-python",
   "name": "python",
   "nbconvert_exporter": "python",
   "pygments_lexer": "ipython3",
   "version": "3.12.6"
  }
 },
 "nbformat": 4,
 "nbformat_minor": 2
}
